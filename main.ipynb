{
 "cells": [
  {
   "cell_type": "code",
   "execution_count": 1,
   "metadata": {},
   "outputs": [
    {
     "name": "stdout",
     "output_type": "stream",
     "text": [
      "Jupyter environment detected. Enabling Open3D WebVisualizer.\n",
      "[Open3D INFO] WebRTC GUI backend enabled.\n",
      "[Open3D INFO] WebRTCWindowSystem: HTTP handshake server disabled.\n"
     ]
    }
   ],
   "source": [
    "import numpy as np \n",
    "import matplotlib.pyplot as plt \n",
    "import pandas as pd \n",
    "from open3d import geometry, visualization, io, utility\n",
    "import laspy as lp \n",
    "\n",
    "import rasterio\n",
    "import alphashape as ash \n",
    "import geopandas as gpd \n",
    "import shapely as sh \n",
    "\n",
    "from rasterio.transform import from_origin\n",
    "from rasterio.enums import Resampling\n",
    "from rasterio.features import shapes \n",
    "from shapely.geometry import Polygon"
   ]
  },
  {
   "cell_type": "markdown",
   "metadata": {},
   "source": [
    "Data collection and information.\n",
    "[Link to Data](https://opendata.vancouver.ca/explore/dataset/lidar-2022/information/?location=12,49.25315,-123.10472)\n"
   ]
  },
  {
   "cell_type": "code",
   "execution_count": 2,
   "metadata": {},
   "outputs": [],
   "source": [
    "las = lp.read(\"./neighborhood.laz\")"
   ]
  },
  {
   "cell_type": "code",
   "execution_count": 3,
   "metadata": {},
   "outputs": [
    {
     "name": "stdout",
     "output_type": "stream",
     "text": [
      "[1 2 3 5 6 7]\n",
      "['X', 'Y', 'Z', 'intensity', 'return_number', 'number_of_returns', 'synthetic', 'key_point', 'withheld', 'overlap', 'scanner_channel', 'scan_direction_flag', 'edge_of_flight_line', 'classification', 'user_data', 'scan_angle', 'point_source_id', 'gps_time', 'red', 'green', 'blue']\n"
     ]
    }
   ],
   "source": [
    "print(np.unique(las.classification))\n",
    "print([dim.name for dim in las.point_format.dimensions])"
   ]
  },
  {
   "cell_type": "code",
   "execution_count": 4,
   "metadata": {},
   "outputs": [
    {
     "name": "stdout",
     "output_type": "stream",
     "text": [
      "PROJCS[\"NAD_1983_UTM_Zone_10N\",GEOGCS[\"GCS_North_American_1983\",DATUM[\"D_North_American_1983\",SPHEROID[\"GRS_1980\",6378137.0,298.257222101]],PRIMEM[\"Greenwich\",0.0],UNIT[\"Degree\",0.0174532925199433]],PROJECTION[\"Transverse_Mercator\"],PARAMETER[\"False_Easting\",500000.0],PARAMETER[\"False_Northing\",0.0],PARAMETER[\"Central_Meridian\",-123.0],PARAMETER[\"Scale_Factor\",0.9996],PARAMETER[\"Latitude_Of_Origin\",0.0],UNIT[\"Meter\",1.0],AUTHORITY[\"EPSG\",26910]]\n"
     ]
    }
   ],
   "source": [
    "crs = las.vlrs[2].string\n",
    "print(las.vlrs[2].string)"
   ]
  },
  {
   "cell_type": "code",
   "execution_count": 5,
   "metadata": {},
   "outputs": [],
   "source": [
    "pts_mask = las.classification == 6\n",
    "\n",
    "xyz_t = np.vstack((las.x[pts_mask], las.y[pts_mask], las.z[pts_mask]))\n",
    "\n",
    "pcd_03d = geometry.PointCloud()\n",
    "pcd_03d.points = utility.Vector3dVector(xyz_t.transpose())\n",
    "\n",
    "pcd_center = pcd_03d.get_center()\n",
    "pcd_03d.translate(-pcd_center)\n",
    "\n",
    "visualization.draw_geometries([pcd_03d])"
   ]
  },
  {
   "cell_type": "code",
   "execution_count": 6,
   "metadata": {},
   "outputs": [],
   "source": [
    "pts_mask = las.classification == 2\n",
    "xyz_t = np.vstack((las.x[pts_mask], las.y[pts_mask], las.z[pts_mask]))\n",
    "\n",
    "ground_points = geometry.PointCloud()\n",
    "ground_points.points = utility.Vector3dVector(xyz_t.transpose())\n",
    "\n",
    "ground_points.translate(-pcd_center)\n",
    "\n",
    "visualization.draw_geometries([ground_points])"
   ]
  },
  {
   "cell_type": "code",
   "execution_count": 7,
   "metadata": {},
   "outputs": [
    {
     "name": "stdout",
     "output_type": "stream",
     "text": [
      "0.11673857611056317\n"
     ]
    }
   ],
   "source": [
    "nn_distance = np.mean(pcd_03d.compute_nearest_neighbor_distance())\n",
    "print(nn_distance)"
   ]
  },
  {
   "cell_type": "markdown",
   "metadata": {},
   "source": [
    "## Single Unit Experiments\n",
    "- Unsupervised Segmentation.\n",
    "- 3D House Segmentation.\n",
    "- 2D Building Footprint Extraction.\n",
    "- Semantic and Attribute Extraction.\n",
    "- 2D to 3D.\n",
    "- 3D Model Creation (vertices).\n",
    "- 3D Model Creation (meshes).\n",
    "- Post-Processing and Export."
   ]
  },
  {
   "cell_type": "code",
   "execution_count": 8,
   "metadata": {},
   "outputs": [
    {
     "name": "stdout",
     "output_type": "stream",
     "text": [
      "point cloud has 31 clusters.\n"
     ]
    }
   ],
   "source": [
    "epsilon = 2\n",
    "min_cluster_points = 100\n",
    "\n",
    "labels = np.array(pcd_03d.cluster_dbscan(epsilon, min_cluster_points))\n",
    "max_label = labels.max()\n",
    "print(f\"point cloud has {max_label+1} clusters.\")\n",
    "\n",
    "colors = plt.get_cmap(\"tab20\")(labels/ (max_label if max_label > 0 else 1))\n",
    "colors[labels< 0] = 0\n",
    "pcd_03d.colors = utility.Vector3dVector(colors[:, :3])\n",
    "\n",
    "visualization.draw_geometries([pcd_03d])"
   ]
  },
  {
   "cell_type": "code",
   "execution_count": 9,
   "metadata": {},
   "outputs": [],
   "source": [
    "sel = 1\n",
    "segment = pcd_03d.select_by_index(np.where(labels == sel)[0])\n",
    "visualization.draw_geometries([segment])"
   ]
  },
  {
   "cell_type": "code",
   "execution_count": 10,
   "metadata": {},
   "outputs": [
    {
     "data": {
      "image/svg+xml": [
       "<svg xmlns=\"http://www.w3.org/2000/svg\" xmlns:xlink=\"http://www.w3.org/1999/xlink\" width=\"100.0\" height=\"100.0\" viewBox=\"-52.5463883037935 -31.38627733591944 17.785119999938175 17.83511999946088\" preserveAspectRatio=\"xMinYMin meet\"><g transform=\"matrix(1,0,0,-1,0,-44.937434672378004)\"><path fill-rule=\"evenodd\" fill=\"#66cc99\" stroke=\"#555555\" stroke-width=\"0.3567023999892176\" opacity=\"0.6\" d=\"M -42.95182830380509,-15.989717336371541 L -42.498828303825576,-16.04871733672917 L -41.9958283037995,-16.068717336282134 L -41.99482830381021,-16.068717336282134 L -41.513828303839546,-16.05771733634174 L -41.09082830382977,-16.05871733650565 L -40.565828303806484,-16.003717336803675 L -39.675828303792514,-16.09671733621508 L -39.43482830381254,-16.07071733660996 L -38.689828303817194,-16.074717336334288 L -37.796828303835355,-16.13171733636409 L -37.5528283038293,-16.119717336259782 L -37.34082830382977,-16.166717336513102 L -35.890828303818125,-16.50671733636409 L -35.86482830380555,-16.508717336691916 L -35.7118283038144,-16.55771733634174 L -35.4958283037995,-16.73171733599156 L -35.421828303835355,-16.917717336677015 L -35.47582830383908,-17.591717336326838 L -35.53982830379391,-18.13971733674407 L -35.53982830379391,-18.141717336140573 L -35.59082830382977,-18.663717336021364 L -35.55882830382325,-19.09271733649075 L -35.53982830379391,-19.49771733675152 L -35.57282830378972,-20.024717336520553 L -35.52082830382278,-20.529717336408794 L -35.515828303818125,-21.117717335931957 L -35.607828303822316,-21.646717336028814 L -35.58282830379903,-22.564717336557806 L -35.57782830379438,-23.645717336796224 L -35.675828303792514,-24.171717336401343 L -35.66482830379391,-25.004717336036265 L -35.66882830380928,-25.52871733624488 L -35.65382830379531,-26.485717336647213 L -35.72882830380695,-27.107717336155474 L -35.69882830383722,-27.48971733637154 L -35.72882830380695,-28.599717336706817 L -35.79482830379857,-28.84771733637899 L -35.872828303836286,-29.103717336431146 L -36.01282830379205,-29.228717336431146 L -36.35382830380695,-29.28171733673662 L -37.34582830383442,-29.23871733620763 L -37.939828303817194,-29.176717336289585 L -39.86782830383163,-30.17071733623743 L -40.39882830379065,-30.725717335939407 L -41.45182830380509,-30.693717336282134 L -41.813828303827904,-30.68371733650565 L -42.40282830380602,-30.69071733672172 L -42.513828303839546,-30.679717336781323 L -42.784828303789254,-30.658717336133122 L -43.56082830380183,-30.65271733608097 L -44.780828303832095,-30.68271733634174 L -44.95782830379903,-30.460717336274683 L -47.233828303811606,-28.961717336438596 L -48.11882830382092,-28.913717336021364 L -48.61682830378413,-28.917717336677015 L -48.86282830382697,-28.92871733661741 L -49.2118283038144,-28.936717336066067 L -49.425828303792514,-28.80771733634174 L -49.4618283038144,-28.619717336259782 L -49.58982830378227,-28.01571733597666 L -49.81882830383256,-27.108717336319387 L -50.157828303810675,-25.55771733634174 L -50.24282830383163,-24.002717336639762 L -50.342828303808346,-23.291717336513102 L -50.60182830382837,-22.645717336796224 L -51.58382830378832,-21.578717336058617 L -51.88582830381347,-21.05771733634174 L -51.60282830381766,-19.961717336438596 L -51.47982830379624,-19.33471733611077 L -51.55782830383396,-18.668717335909605 L -51.48882830381626,-18.37371733598411 L -51.485828303790186,-17.5187173364684 L -51.4168283038307,-16.375717336311936 L -51.45182830380509,-16.160717336460948 L -51.33782830380369,-15.185717336833477 L -51.33282830379903,-15.077717336826026 L -50.7008283038158,-14.796717336401343 L -50.065828303806484,-14.525717336684465 L -49.563828303827904,-14.325717336498201 L -49.127828303782735,-14.279717336408794 L -48.498828303825576,-14.283717336133122 L -47.76182830380276,-14.211717336438596 L -47.22082830383442,-14.26471733674407 L -46.46382830379298,-14.527717336080968 L -46.08182830380974,-14.730717336758971 L -45.52782830380602,-15.065717336721718 L -43.672828303824645,-16.013717336580157 L -42.95182830380509,-15.989717336371541 z\" /></g></svg>"
      ],
      "text/plain": [
       "<POLYGON ((-42.952 -15.99, -42.499 -16.049, -41.996 -16.069, -41.995 -16.069...>"
      ]
     },
     "execution_count": 10,
     "metadata": {},
     "output_type": "execute_result"
    }
   ],
   "source": [
    "points_2D = np.asarray(segment.points)[:, 0:2]\n",
    "building_vector = ash.alphashape(points_2D, alpha=.5)\n",
    "building_vector"
   ]
  },
  {
   "cell_type": "code",
   "execution_count": 11,
   "metadata": {},
   "outputs": [
    {
     "data": {
      "text/html": [
       "<div>\n",
       "<style scoped>\n",
       "    .dataframe tbody tr th:only-of-type {\n",
       "        vertical-align: middle;\n",
       "    }\n",
       "\n",
       "    .dataframe tbody tr th {\n",
       "        vertical-align: top;\n",
       "    }\n",
       "\n",
       "    .dataframe thead th {\n",
       "        text-align: right;\n",
       "    }\n",
       "</style>\n",
       "<table border=\"1\" class=\"dataframe\">\n",
       "  <thead>\n",
       "    <tr style=\"text-align: right;\">\n",
       "      <th></th>\n",
       "      <th>geometry</th>\n",
       "    </tr>\n",
       "  </thead>\n",
       "  <tbody>\n",
       "    <tr>\n",
       "      <th>0</th>\n",
       "      <td>POLYGON ((-42.952 -15.990, -42.499 -16.049, -4...</td>\n",
       "    </tr>\n",
       "  </tbody>\n",
       "</table>\n",
       "</div>"
      ],
      "text/plain": [
       "                                            geometry\n",
       "0  POLYGON ((-42.952 -15.990, -42.499 -16.049, -4..."
      ]
     },
     "execution_count": 11,
     "metadata": {},
     "output_type": "execute_result"
    }
   ],
   "source": [
    "building_gdf = gpd.GeoDataFrame(geometry=[building_vector], crs=\"EPSG:26910\")\n",
    "building_gdf.head(1)"
   ]
  },
  {
   "cell_type": "code",
   "execution_count": 12,
   "metadata": {},
   "outputs": [
    {
     "name": "stdout",
     "output_type": "stream",
     "text": [
      "Is this correct:  10.192000000000007\n",
      "True Height 10.070570000000004\n"
     ]
    }
   ],
   "source": [
    "altitude = np.asarray(segment.points)[:,2]+pcd_center[2]\n",
    "height_test = np.max(altitude)- np.min(altitude)\n",
    "print(\"Is this correct: \", height_test)\n",
    "\n",
    "query_point = segment.get_center()\n",
    "query_point[2] = segment.get_min_bound()[2]\n",
    "pcd_tree = geometry.KDTreeFlann(ground_points)\n",
    "[k, idx, _] = pcd_tree.search_knn_vector_3d(query_point, 200)\n",
    "\n",
    "sample = ground_points.select_by_index(idx, invert=False)\n",
    "sample.paint_uniform_color([.5, .5, .5])\n",
    "# visualization.draw_geometries([sample, ground_points])\n",
    "\n",
    "ground_zero = sample.get_center()[2]\n",
    "\n",
    "height = segment.get_max_bound()[2] - ground_zero\n",
    "\n",
    "print(\"True Height\", height)"
   ]
  },
  {
   "cell_type": "code",
   "execution_count": 13,
   "metadata": {},
   "outputs": [
    {
     "data": {
      "text/html": [
       "<div>\n",
       "<style scoped>\n",
       "    .dataframe tbody tr th:only-of-type {\n",
       "        vertical-align: middle;\n",
       "    }\n",
       "\n",
       "    .dataframe tbody tr th {\n",
       "        vertical-align: top;\n",
       "    }\n",
       "\n",
       "    .dataframe thead th {\n",
       "        text-align: right;\n",
       "    }\n",
       "</style>\n",
       "<table border=\"1\" class=\"dataframe\">\n",
       "  <thead>\n",
       "    <tr style=\"text-align: right;\">\n",
       "      <th></th>\n",
       "      <th>geometry</th>\n",
       "      <th>id</th>\n",
       "      <th>height</th>\n",
       "      <th>area</th>\n",
       "      <th>perimeter</th>\n",
       "      <th>local_cx</th>\n",
       "      <th>local_cy</th>\n",
       "      <th>local_cz</th>\n",
       "      <th>transl_x</th>\n",
       "      <th>transl_y</th>\n",
       "      <th>transl_z</th>\n",
       "      <th>pts_number</th>\n",
       "    </tr>\n",
       "  </thead>\n",
       "  <tbody>\n",
       "    <tr>\n",
       "      <th>0</th>\n",
       "      <td>POLYGON ((-42.952 -15.990, -42.499 -16.049, -4...</td>\n",
       "      <td>1</td>\n",
       "      <td>10.07057</td>\n",
       "      <td>217.271398</td>\n",
       "      <td>58.079869</td>\n",
       "      <td>-43.39485</td>\n",
       "      <td>-22.418669</td>\n",
       "      <td>-4.426159</td>\n",
       "      <td>490276.695828</td>\n",
       "      <td>5.453749e+06</td>\n",
       "      <td>109.171589</td>\n",
       "      <td>7747</td>\n",
       "    </tr>\n",
       "  </tbody>\n",
       "</table>\n",
       "</div>"
      ],
      "text/plain": [
       "                                            geometry  id    height  \\\n",
       "0  POLYGON ((-42.952 -15.990, -42.499 -16.049, -4...   1  10.07057   \n",
       "\n",
       "         area  perimeter  local_cx   local_cy  local_cz       transl_x  \\\n",
       "0  217.271398  58.079869 -43.39485 -22.418669 -4.426159  490276.695828   \n",
       "\n",
       "       transl_y    transl_z  pts_number  \n",
       "0  5.453749e+06  109.171589        7747  "
      ]
     },
     "execution_count": 13,
     "metadata": {},
     "output_type": "execute_result"
    }
   ],
   "source": [
    "building_gdf[['id']] = sel \n",
    "building_gdf[['height']] = segment.get_max_bound()[2] - sample.get_center()[2]\n",
    "building_gdf[['area']]  = building_vector.area \n",
    "building_gdf[['perimeter']] = building_vector.length\n",
    "building_gdf[['local_cx', 'local_cy', 'local_cz']] = np.asarray([building_vector.centroid.x, building_vector.centroid.y, sample.get_center()[2]])\n",
    "building_gdf[['transl_x', 'transl_y', 'transl_z']] = pcd_center\n",
    "building_gdf[['pts_number']] = len(segment.points)\n",
    "\n",
    "building_gdf.head(1)"
   ]
  },
  {
   "cell_type": "code",
   "execution_count": 14,
   "metadata": {},
   "outputs": [
    {
     "name": "stdout",
     "output_type": "stream",
     "text": [
      "The local minima (along the Z axis) -4.54758912976655\n",
      "The local maxima (along the Z axis) 5.6444108702334574\n"
     ]
    },
    {
     "data": {
      "image/png": "[encoded data removed]",
      "text/plain": [
       "<Figure size 640x480 with 1 Axes>"
      ]
     },
     "metadata": {},
     "output_type": "display_data"
    }
   ],
   "source": [
    "points_1D = np.asarray(segment.points)[:,2]\n",
    "print('The local minima (along the Z axis)',np.min(points_1D))\n",
    "print('The local maxima (along the Z axis)',np.max(points_1D))\n",
    "\n",
    "plt.hist(points_1D, bins='auto', color='crimson')  # arguments are passed to np.histogram\n",
    "plt.title(\"Histogram with 'auto' bins\")\n",
    "plt.show()"
   ]
  },
  {
   "cell_type": "code",
   "execution_count": 15,
   "metadata": {},
   "outputs": [],
   "source": [
    "vertices = list(building_vector.exterior.coords)\n",
    "\n",
    "polygon_2d = geometry.LineSet()\n",
    "polygon_2d.points = utility.Vector3dVector([point + (0,) for point in vertices])\n",
    "polygon_2d.lines = utility.Vector2iVector([(i, (i+1) % len(vertices)) for i in range(len(vertices))])\n",
    "\n",
    "visualization.draw_geometries([polygon_2d])"
   ]
  },
  {
   "cell_type": "code",
   "execution_count": 16,
   "metadata": {},
   "outputs": [],
   "source": [
    "extrusion = geometry.LineSet()\n",
    "extrusion.points = utility.Vector3dVector([point + (height,) for point in vertices])\n",
    "extrusion.lines = utility.Vector2iVector([(i, (i + 1) % len(vertices)) for i in range(len(vertices))])\n",
    "visualization.draw_geometries([polygon_2d, extrusion])\n",
    "\n",
    "#Plot the vertices\n",
    "temp = polygon_2d + extrusion\n",
    "temp.points\n",
    "temp_o3d = geometry.PointCloud()\n",
    "temp_o3d.points = temp.points\n",
    "visualization.draw_geometries([temp_o3d])"
   ]
  },
  {
   "cell_type": "code",
   "execution_count": 17,
   "metadata": {},
   "outputs": [],
   "source": [
    "a = np.array(building_vector.exterior.coords)\n",
    "b = np.ones([a.shape[0],1])*sample.get_center()[2]\n",
    "c = np.ones([a.shape[0],1])*(sample.get_center()[2] + height)\n",
    "\n",
    "#Define the ground footprint and the height arrays of points\n",
    "ground_pc = np.hstack((a, b))\n",
    "up_pc = np.hstack((a, c))\n",
    "\n",
    "#Generate an Open3D \"point cloud\" made of the major points\n",
    "temp_o3d = geometry.PointCloud()\n",
    "temp_o3d.points = utility.Vector3dVector(np.concatenate((ground_pc, up_pc), axis=0))\n",
    "visualization.draw_geometries([temp_o3d])"
   ]
  },
  {
   "cell_type": "code",
   "execution_count": 18,
   "metadata": {},
   "outputs": [
    {
     "name": "stdout",
     "output_type": "stream",
     "text": [
      "alpha=20.000\n",
      "\u001b[1;33m[Open3D WARNING] [CreateFromPointCloudAlphaShape] invalid tetra in TetraMesh\u001b[0;m\n",
      "\u001b[1;33m[Open3D WARNING] [CreateFromPointCloudAlphaShape] invalid tetra in TetraMesh\u001b[0;m\n",
      "\u001b[1;33m[Open3D WARNING] [CreateFromPointCloudAlphaShape] invalid tetra in TetraMesh\u001b[0;m\n",
      "\u001b[1;33m[Open3D WARNING] [CreateFromPointCloudAlphaShape] invalid tetra in TetraMesh\u001b[0;m\n",
      "\u001b[1;33m[Open3D WARNING] [CreateFromPointCloudAlphaShape] invalid tetra in TetraMesh\u001b[0;m\n",
      "\u001b[1;33m[Open3D WARNING] [CreateFromPointCloudAlphaShape] invalid tetra in TetraMesh\u001b[0;m\n",
      "\u001b[1;33m[Open3D WARNING] [CreateFromPointCloudAlphaShape] invalid tetra in TetraMesh\u001b[0;m\n",
      "\u001b[1;33m[Open3D WARNING] [CreateFromPointCloudAlphaShape] invalid tetra in TetraMesh\u001b[0;m\n",
      "\u001b[1;33m[Open3D WARNING] [CreateFromPointCloudAlphaShape] invalid tetra in TetraMesh\u001b[0;m\n",
      "\u001b[1;33m[Open3D WARNING] [CreateFromPointCloudAlphaShape] invalid tetra in TetraMesh\u001b[0;m\n",
      "\u001b[1;33m[Open3D WARNING] [CreateFromPointCloudAlphaShape] invalid tetra in TetraMesh\u001b[0;m\n",
      "\u001b[1;33m[Open3D WARNING] [CreateFromPointCloudAlphaShape] invalid tetra in TetraMesh\u001b[0;m\n",
      "\u001b[1;33m[Open3D WARNING] [CreateFromPointCloudAlphaShape] invalid tetra in TetraMesh\u001b[0;m\n",
      "\u001b[1;33m[Open3D WARNING] [CreateFromPointCloudAlphaShape] invalid tetra in TetraMesh\u001b[0;m\n",
      "\u001b[1;33m[Open3D WARNING] [CreateFromPointCloudAlphaShape] invalid tetra in TetraMesh\u001b[0;m\n",
      "\u001b[1;33m[Open3D WARNING] [CreateFromPointCloudAlphaShape] invalid tetra in TetraMesh\u001b[0;m\n",
      "\u001b[1;33m[Open3D WARNING] [CreateFromPointCloudAlphaShape] invalid tetra in TetraMesh\u001b[0;m\n",
      "\u001b[1;33m[Open3D WARNING] [CreateFromPointCloudAlphaShape] invalid tetra in TetraMesh\u001b[0;m\n",
      "\u001b[1;33m[Open3D WARNING] [CreateFromPointCloudAlphaShape] invalid tetra in TetraMesh\u001b[0;m\n",
      "\u001b[1;33m[Open3D WARNING] [CreateFromPointCloudAlphaShape] invalid tetra in TetraMesh\u001b[0;m\n",
      "\u001b[1;33m[Open3D WARNING] [CreateFromPointCloudAlphaShape] invalid tetra in TetraMesh\u001b[0;m\n",
      "\u001b[1;33m[Open3D WARNING] [CreateFromPointCloudAlphaShape] invalid tetra in TetraMesh\u001b[0;m\n",
      "\u001b[1;33m[Open3D WARNING] [CreateFromPointCloudAlphaShape] invalid tetra in TetraMesh\u001b[0;m\n",
      "\u001b[1;33m[Open3D WARNING] [CreateFromPointCloudAlphaShape] invalid tetra in TetraMesh\u001b[0;m\n",
      "\u001b[1;33m[Open3D WARNING] [CreateFromPointCloudAlphaShape] invalid tetra in TetraMesh\u001b[0;m\n",
      "\u001b[1;33m[Open3D WARNING] [CreateFromPointCloudAlphaShape] invalid tetra in TetraMesh\u001b[0;m\n",
      "\u001b[1;33m[Open3D WARNING] [CreateFromPointCloudAlphaShape] invalid tetra in TetraMesh\u001b[0;m\n",
      "\u001b[1;33m[Open3D WARNING] [CreateFromPointCloudAlphaShape] invalid tetra in TetraMesh\u001b[0;m\n",
      "\u001b[1;33m[Open3D WARNING] [CreateFromPointCloudAlphaShape] invalid tetra in TetraMesh\u001b[0;m\n",
      "\u001b[1;33m[Open3D WARNING] [CreateFromPointCloudAlphaShape] invalid tetra in TetraMesh\u001b[0;m\n",
      "\u001b[1;33m[Open3D WARNING] [CreateFromPointCloudAlphaShape] invalid tetra in TetraMesh\u001b[0;m\n",
      "\u001b[1;33m[Open3D WARNING] [CreateFromPointCloudAlphaShape] invalid tetra in TetraMesh\u001b[0;m\n",
      "\u001b[1;33m[Open3D WARNING] [CreateFromPointCloudAlphaShape] invalid tetra in TetraMesh\u001b[0;m\n",
      "\u001b[1;33m[Open3D WARNING] [CreateFromPointCloudAlphaShape] invalid tetra in TetraMesh\u001b[0;m\n",
      "\u001b[1;33m[Open3D WARNING] [CreateFromPointCloudAlphaShape] invalid tetra in TetraMesh\u001b[0;m\n",
      "\u001b[1;33m[Open3D WARNING] [CreateFromPointCloudAlphaShape] invalid tetra in TetraMesh\u001b[0;m\n",
      "\u001b[1;33m[Open3D WARNING] [CreateFromPointCloudAlphaShape] invalid tetra in TetraMesh\u001b[0;m\n",
      "\u001b[1;33m[Open3D WARNING] [CreateFromPointCloudAlphaShape] invalid tetra in TetraMesh\u001b[0;m\n",
      "\u001b[1;33m[Open3D WARNING] [CreateFromPointCloudAlphaShape] invalid tetra in TetraMesh\u001b[0;m\n",
      "\u001b[1;33m[Open3D WARNING] [CreateFromPointCloudAlphaShape] invalid tetra in TetraMesh\u001b[0;m\n",
      "\u001b[1;33m[Open3D WARNING] [CreateFromPointCloudAlphaShape] invalid tetra in TetraMesh\u001b[0;m\n",
      "\u001b[1;33m[Open3D WARNING] [CreateFromPointCloudAlphaShape] invalid tetra in TetraMesh\u001b[0;m\n",
      "\u001b[1;33m[Open3D WARNING] [CreateFromPointCloudAlphaShape] invalid tetra in TetraMesh\u001b[0;m\n",
      "\u001b[1;33m[Open3D WARNING] [CreateFromPointCloudAlphaShape] invalid tetra in TetraMesh\u001b[0;m\n",
      "\u001b[1;33m[Open3D WARNING] [CreateFromPointCloudAlphaShape] invalid tetra in TetraMesh\u001b[0;m\n",
      "\u001b[1;33m[Open3D WARNING] [CreateFromPointCloudAlphaShape] invalid tetra in TetraMesh\u001b[0;m\n",
      "\u001b[1;33m[Open3D WARNING] [CreateFromPointCloudAlphaShape] invalid tetra in TetraMesh\u001b[0;m\n",
      "\u001b[1;33m[Open3D WARNING] [CreateFromPointCloudAlphaShape] invalid tetra in TetraMesh\u001b[0;m\n",
      "\u001b[1;33m[Open3D WARNING] [CreateFromPointCloudAlphaShape] invalid tetra in TetraMesh\u001b[0;m\n",
      "\u001b[1;33m[Open3D WARNING] [CreateFromPointCloudAlphaShape] invalid tetra in TetraMesh\u001b[0;m\n",
      "\u001b[1;33m[Open3D WARNING] [CreateFromPointCloudAlphaShape] invalid tetra in TetraMesh\u001b[0;m\n",
      "\u001b[1;33m[Open3D WARNING] [CreateFromPointCloudAlphaShape] invalid tetra in TetraMesh\u001b[0;m\n",
      "\u001b[1;33m[Open3D WARNING] [CreateFromPointCloudAlphaShape] invalid tetra in TetraMesh\u001b[0;m\n",
      "\u001b[1;33m[Open3D WARNING] [CreateFromPointCloudAlphaShape] invalid tetra in TetraMesh\u001b[0;m\n",
      "\u001b[1;33m[Open3D WARNING] [CreateFromPointCloudAlphaShape] invalid tetra in TetraMesh\u001b[0;m\n",
      "\u001b[1;33m[Open3D WARNING] [CreateFromPointCloudAlphaShape] invalid tetra in TetraMesh\u001b[0;m\n",
      "\u001b[1;33m[Open3D WARNING] [CreateFromPointCloudAlphaShape] invalid tetra in TetraMesh\u001b[0;m\n",
      "\u001b[1;33m[Open3D WARNING] [CreateFromPointCloudAlphaShape] invalid tetra in TetraMesh\u001b[0;m\n",
      "\u001b[1;33m[Open3D WARNING] [CreateFromPointCloudAlphaShape] invalid tetra in TetraMesh\u001b[0;m\n",
      "\u001b[1;33m[Open3D WARNING] [CreateFromPointCloudAlphaShape] invalid tetra in TetraMesh\u001b[0;m\n",
      "\u001b[1;33m[Open3D WARNING] [CreateFromPointCloudAlphaShape] invalid tetra in TetraMesh\u001b[0;m\n",
      "\u001b[1;33m[Open3D WARNING] [CreateFromPointCloudAlphaShape] invalid tetra in TetraMesh\u001b[0;m\n",
      "\u001b[1;33m[Open3D WARNING] [CreateFromPointCloudAlphaShape] invalid tetra in TetraMesh\u001b[0;m\n",
      "\u001b[1;33m[Open3D WARNING] [CreateFromPointCloudAlphaShape] invalid tetra in TetraMesh\u001b[0;m\n",
      "\u001b[1;33m[Open3D WARNING] [CreateFromPointCloudAlphaShape] invalid tetra in TetraMesh\u001b[0;m\n",
      "\u001b[1;33m[Open3D WARNING] [CreateFromPointCloudAlphaShape] invalid tetra in TetraMesh\u001b[0;m\n",
      "\u001b[1;33m[Open3D WARNING] [CreateFromPointCloudAlphaShape] invalid tetra in TetraMesh\u001b[0;m\n",
      "\u001b[1;33m[Open3D WARNING] [CreateFromPointCloudAlphaShape] invalid tetra in TetraMesh\u001b[0;m\n",
      "\u001b[1;33m[Open3D WARNING] [CreateFromPointCloudAlphaShape] invalid tetra in TetraMesh\u001b[0;m\n",
      "\u001b[1;33m[Open3D WARNING] [CreateFromPointCloudAlphaShape] invalid tetra in TetraMesh\u001b[0;m\n",
      "\u001b[1;33m[Open3D WARNING] [CreateFromPointCloudAlphaShape] invalid tetra in TetraMesh\u001b[0;m\n",
      "\u001b[1;33m[Open3D WARNING] [CreateFromPointCloudAlphaShape] invalid tetra in TetraMesh\u001b[0;m\n",
      "\u001b[1;33m[Open3D WARNING] [CreateFromPointCloudAlphaShape] invalid tetra in TetraMesh\u001b[0;m\n",
      "\u001b[1;33m[Open3D WARNING] [CreateFromPointCloudAlphaShape] invalid tetra in TetraMesh\u001b[0;m\n",
      "\u001b[1;33m[Open3D WARNING] [CreateFromPointCloudAlphaShape] invalid tetra in TetraMesh\u001b[0;m\n",
      "\u001b[1;33m[Open3D WARNING] [CreateFromPointCloudAlphaShape] invalid tetra in TetraMesh\u001b[0;m\n",
      "\u001b[1;33m[Open3D WARNING] [CreateFromPointCloudAlphaShape] invalid tetra in TetraMesh\u001b[0;m\n",
      "\u001b[1;33m[Open3D WARNING] [CreateFromPointCloudAlphaShape] invalid tetra in TetraMesh\u001b[0;m\n",
      "\u001b[1;33m[Open3D WARNING] [CreateFromPointCloudAlphaShape] invalid tetra in TetraMesh\u001b[0;m\n",
      "\u001b[1;33m[Open3D WARNING] [CreateFromPointCloudAlphaShape] invalid tetra in TetraMesh\u001b[0;m\n",
      "\u001b[1;33m[Open3D WARNING] [CreateFromPointCloudAlphaShape] invalid tetra in TetraMesh\u001b[0;m\n",
      "\u001b[1;33m[Open3D WARNING] [CreateFromPointCloudAlphaShape] invalid tetra in TetraMesh\u001b[0;m\n"
     ]
    }
   ],
   "source": [
    "alpha = 20\n",
    "print(f\"alpha={alpha:.3f}\")\n",
    "mesh = geometry.TriangleMesh.create_from_point_cloud_alpha_shape(temp_o3d, alpha)\n",
    "mesh.compute_vertex_normals()\n",
    "mesh.paint_uniform_color([0.5,0.4,0])\n",
    "visualization.draw_geometries([temp_o3d, mesh, segment], mesh_show_back_face=True)"
   ]
  },
  {
   "cell_type": "code",
   "execution_count": 19,
   "metadata": {},
   "outputs": [],
   "source": [
    "mesh.translate(pcd_center)\n",
    "\n",
    "#Export the Mesh\n",
    "io.write_triangle_mesh('./house_sample.ply', mesh, write_ascii=False, compressed=True, write_vertex_normals=False, write_vertex_colors=False, write_triangle_uvs=False)\n",
    "\n",
    "#Export the shapefile\n",
    "building_gdf.to_file(\"./single_building.shp\")"
   ]
  },
  {
   "cell_type": "markdown",
   "metadata": {},
   "source": [
    "## Automation and Scaling."
   ]
  },
  {
   "cell_type": "code",
   "execution_count": 21,
   "metadata": {},
   "outputs": [
    {
     "name": "stderr",
     "output_type": "stream",
     "text": [
      "/tmp/ipykernel_62460/966049208.py:44: FutureWarning: The behavior of DataFrame concatenation with empty or all-NA entries is deprecated. In a future version, this will no longer exclude empty or all-NA columns when determining the result dtypes. To retain the old behavior, exclude the relevant entries before the concat operation.\n",
      "  buildings_gdf = pd.concat([buildings_gdf, building_gdf])\n"
     ]
    }
   ],
   "source": [
    "import random\n",
    "def random_color_generator():\n",
    "    r = random.randint(0, 255)\n",
    "    g = random.randint(0, 255)\n",
    "    b = random.randint(0, 255)\n",
    "    return [r/255, g/255, b/255]\n",
    "\n",
    "#Initializing the GeodataFrame\n",
    "buildings_gdf = gpd.GeoDataFrame(columns=['id', 'geometry', 'height', 'area', 'perimeter', 'local_cx', 'local_cy', 'local_cz', 'transl_x', 'transl_y', 'transl_z'], geometry='geometry', crs='EPSG:26910')\n",
    "\n",
    "# Reducing the output wave of Open3D\n",
    "utility.set_verbosity_level(utility.VerbosityLevel.Error)\n",
    "\n",
    "#Creating the loop\n",
    "for sel in range(max_label+1):\n",
    "    #1. Select the Segment\n",
    "    segment = pcd_03d.select_by_index(np.where(labels==sel)[0])\n",
    "    # o3d.visualization.draw_geometries([segment])\n",
    "\n",
    "    #2. Compute the building footprint\n",
    "    # altitude = np.asarray(segment.points)[:,2]+pcd_center[2]\n",
    "    points_2D = np.asarray(segment.points)[:,0:2]\n",
    "    building_vector = ash.alphashape(points_2D, alpha=0.5)\n",
    "    \n",
    "    #3. Compute the height of the segment (house candidate).\n",
    "    query_point = segment.get_center()\n",
    "    query_point[2] = segment.get_min_bound()[2]\n",
    "    pcd_tree = geometry.KDTreeFlann(ground_points)\n",
    "    [k, idx, _] = pcd_tree.search_knn_vector_3d(query_point, 50)\n",
    "    sample = ground_points.select_by_index(idx, invert=False)\n",
    "    ground_zero = sample.get_center()[2]\n",
    "    \n",
    "    #4. Create the geopandas with attributes entry\n",
    "    building_gdf = gpd.GeoDataFrame(geometry=[building_vector], crs='EPSG:26910')\n",
    "    building_gdf[['id']] = sel\n",
    "    building_gdf[['height']] = segment.get_max_bound()[2] - sample.get_center()[2]\n",
    "    building_gdf[['area']] = building_vector.area\n",
    "    building_gdf[['perimeter']] = building_vector.length\n",
    "    building_gdf[['local_cx','local_cy','local_cz']] = np.asarray([building_vector.centroid.x, building_vector.centroid.y, sample.get_center()[2]])\n",
    "    building_gdf[['transl_x','transl_y','transl_z']] = pcd_center\n",
    "    building_gdf[['pts_number']] = len(segment.points)\n",
    "    \n",
    "    #4. Add it to geometries entries\n",
    "    buildings_gdf = pd.concat([buildings_gdf, building_gdf])\n",
    "\n",
    "#5. Compute the 3D Vertices Geometries\n",
    "    a = np.array(building_vector.exterior.coords)\n",
    "    b = np.ones([a.shape[0],1])*sample.get_center()[2]\n",
    "    c = np.ones([a.shape[0],1])*(sample.get_center()[2] + height)\n",
    "    ground_pc = np.hstack((a, b))\n",
    "    up_pc = np.hstack((a, c))\n",
    "    temp_o3d = geometry.PointCloud()\n",
    "    temp_o3d.points = utility.Vector3dVector(np.concatenate((ground_pc, up_pc), axis=0))\n",
    "    \n",
    "    #5. Compute the 3D Geometry of a house \n",
    "    alpha = 20\n",
    "    mesh = geometry.TriangleMesh.create_from_point_cloud_alpha_shape(temp_o3d, alpha)\n",
    "    mesh.translate(pcd_center)\n",
    "    mesh.paint_uniform_color(random_color_generator())    #5. Compute the 3D Vertices Geometries\n",
    "\n",
    "    \n",
    "    io.write_triangle_mesh('./house_'+str(sel)+'.ply', mesh, write_ascii=False, compressed=True, write_vertex_normals=False)"
   ]
  },
  {
   "cell_type": "code",
   "execution_count": 22,
   "metadata": {},
   "outputs": [
    {
     "data": {
      "text/html": [
       "<div>\n",
       "<style scoped>\n",
       "    .dataframe tbody tr th:only-of-type {\n",
       "        vertical-align: middle;\n",
       "    }\n",
       "\n",
       "    .dataframe tbody tr th {\n",
       "        vertical-align: top;\n",
       "    }\n",
       "\n",
       "    .dataframe thead th {\n",
       "        text-align: right;\n",
       "    }\n",
       "</style>\n",
       "<table border=\"1\" class=\"dataframe\">\n",
       "  <thead>\n",
       "    <tr style=\"text-align: right;\">\n",
       "      <th></th>\n",
       "      <th>id</th>\n",
       "      <th>geometry</th>\n",
       "      <th>height</th>\n",
       "      <th>area</th>\n",
       "      <th>perimeter</th>\n",
       "      <th>local_cx</th>\n",
       "      <th>local_cy</th>\n",
       "      <th>local_cz</th>\n",
       "      <th>transl_x</th>\n",
       "      <th>transl_y</th>\n",
       "      <th>transl_z</th>\n",
       "      <th>pts_number</th>\n",
       "    </tr>\n",
       "  </thead>\n",
       "  <tbody>\n",
       "    <tr>\n",
       "      <th>0</th>\n",
       "      <td>0</td>\n",
       "      <td>POLYGON ((-70.127 -28.661, -70.197 -28.530, -7...</td>\n",
       "      <td>8.22666</td>\n",
       "      <td>220.044376</td>\n",
       "      <td>58.509767</td>\n",
       "      <td>-65.353656</td>\n",
       "      <td>-21.865790</td>\n",
       "      <td>-4.354249</td>\n",
       "      <td>490276.695828</td>\n",
       "      <td>5.453749e+06</td>\n",
       "      <td>109.171589</td>\n",
       "      <td>7835.0</td>\n",
       "    </tr>\n",
       "    <tr>\n",
       "      <th>0</th>\n",
       "      <td>1</td>\n",
       "      <td>POLYGON ((-42.952 -15.990, -42.499 -16.049, -4...</td>\n",
       "      <td>10.01868</td>\n",
       "      <td>217.271398</td>\n",
       "      <td>58.079869</td>\n",
       "      <td>-43.394850</td>\n",
       "      <td>-22.418669</td>\n",
       "      <td>-4.374269</td>\n",
       "      <td>490276.695828</td>\n",
       "      <td>5.453749e+06</td>\n",
       "      <td>109.171589</td>\n",
       "      <td>7747.0</td>\n",
       "    </tr>\n",
       "    <tr>\n",
       "      <th>0</th>\n",
       "      <td>2</td>\n",
       "      <td>POLYGON ((-67.175 14.134, -67.244 13.334, -67....</td>\n",
       "      <td>3.77992</td>\n",
       "      <td>56.046655</td>\n",
       "      <td>28.919532</td>\n",
       "      <td>-70.892099</td>\n",
       "      <td>12.992831</td>\n",
       "      <td>-4.224509</td>\n",
       "      <td>490276.695828</td>\n",
       "      <td>5.453749e+06</td>\n",
       "      <td>109.171589</td>\n",
       "      <td>1850.0</td>\n",
       "    </tr>\n",
       "    <tr>\n",
       "      <th>0</th>\n",
       "      <td>3</td>\n",
       "      <td>POLYGON ((-61.049 -6.239, -61.815 -6.460, -62....</td>\n",
       "      <td>3.43800</td>\n",
       "      <td>73.891078</td>\n",
       "      <td>33.293933</td>\n",
       "      <td>-59.835566</td>\n",
       "      <td>-2.574601</td>\n",
       "      <td>-4.319589</td>\n",
       "      <td>490276.695828</td>\n",
       "      <td>5.453749e+06</td>\n",
       "      <td>109.171589</td>\n",
       "      <td>2182.0</td>\n",
       "    </tr>\n",
       "    <tr>\n",
       "      <th>0</th>\n",
       "      <td>4</td>\n",
       "      <td>POLYGON ((-62.549 -13.829, -62.043 -13.714, -6...</td>\n",
       "      <td>3.37544</td>\n",
       "      <td>19.282685</td>\n",
       "      <td>20.628842</td>\n",
       "      <td>-60.202507</td>\n",
       "      <td>-15.640869</td>\n",
       "      <td>-4.051029</td>\n",
       "      <td>490276.695828</td>\n",
       "      <td>5.453749e+06</td>\n",
       "      <td>109.171589</td>\n",
       "      <td>335.0</td>\n",
       "    </tr>\n",
       "  </tbody>\n",
       "</table>\n",
       "</div>"
      ],
      "text/plain": [
       "  id                                           geometry    height        area  \\\n",
       "0  0  POLYGON ((-70.127 -28.661, -70.197 -28.530, -7...   8.22666  220.044376   \n",
       "0  1  POLYGON ((-42.952 -15.990, -42.499 -16.049, -4...  10.01868  217.271398   \n",
       "0  2  POLYGON ((-67.175 14.134, -67.244 13.334, -67....   3.77992   56.046655   \n",
       "0  3  POLYGON ((-61.049 -6.239, -61.815 -6.460, -62....   3.43800   73.891078   \n",
       "0  4  POLYGON ((-62.549 -13.829, -62.043 -13.714, -6...   3.37544   19.282685   \n",
       "\n",
       "   perimeter   local_cx   local_cy  local_cz       transl_x      transl_y  \\\n",
       "0  58.509767 -65.353656 -21.865790 -4.354249  490276.695828  5.453749e+06   \n",
       "0  58.079869 -43.394850 -22.418669 -4.374269  490276.695828  5.453749e+06   \n",
       "0  28.919532 -70.892099  12.992831 -4.224509  490276.695828  5.453749e+06   \n",
       "0  33.293933 -59.835566  -2.574601 -4.319589  490276.695828  5.453749e+06   \n",
       "0  20.628842 -60.202507 -15.640869 -4.051029  490276.695828  5.453749e+06   \n",
       "\n",
       "     transl_z  pts_number  \n",
       "0  109.171589      7835.0  \n",
       "0  109.171589      7747.0  \n",
       "0  109.171589      1850.0  \n",
       "0  109.171589      2182.0  \n",
       "0  109.171589       335.0  "
      ]
     },
     "execution_count": 22,
     "metadata": {},
     "output_type": "execute_result"
    }
   ],
   "source": [
    "buildings_gdf.head(5)"
   ]
  },
  {
   "cell_type": "code",
   "execution_count": 23,
   "metadata": {},
   "outputs": [],
   "source": [
    "buildings_gdf.to_file(\"./neighborhood_buildings.shp\")"
   ]
  },
  {
   "cell_type": "markdown",
   "metadata": {},
   "source": [
    "## Visualization and Rasterization."
   ]
  },
  {
   "cell_type": "code",
   "execution_count": 24,
   "metadata": {},
   "outputs": [
    {
     "name": "stdout",
     "output_type": "stream",
     "text": [
      "number of pixel along X and Y:  166 93\n"
     ]
    }
   ],
   "source": [
    "pixel_size = 1\n",
    "\n",
    "x, y, z = xyz_t[0], xyz_t[1], xyz_t[2]\n",
    "\n",
    "# Determine the extent of the DEM\n",
    "min_x, max_x = np.min(x), np.max(x)\n",
    "min_y, max_y = np.min(y), np.max(y)\n",
    "\n",
    "# Calculate the number of pixels in X and Y directions\n",
    "num_pixels_x = int((max_x - min_x) / pixel_size)\n",
    "num_pixels_y = int((max_y - min_y) / pixel_size)\n",
    "\n",
    "#profile the results\n",
    "print(\"number of pixel along X and Y: \",num_pixels_x, num_pixels_y)"
   ]
  },
  {
   "cell_type": "code",
   "execution_count": 25,
   "metadata": {},
   "outputs": [],
   "source": [
    "transform = from_origin(min_x, max_y, pixel_size, pixel_size)\n",
    "\n",
    "# Create an array to store the elevation values\n",
    "dem_array = np.zeros((num_pixels_y, num_pixels_x), dtype=np.float32)"
   ]
  },
  {
   "cell_type": "code",
   "execution_count": 26,
   "metadata": {},
   "outputs": [],
   "source": [
    "col_indices = ((x - min_x) / pixel_size).astype(int)\n",
    "row_indices = ((max_y - y) / pixel_size).astype(int)\n",
    "\n",
    "# Mask to ensure indices are within bounds\n",
    "valid_indices = (0 <= row_indices) & (row_indices < num_pixels_y) & (0 <= col_indices) & (col_indices < num_pixels_x)\n",
    "\n",
    "# Populate the DEM array with elevation values from the point cloud\n",
    "dem_array[row_indices[valid_indices], col_indices[valid_indices]] = z[valid_indices]"
   ]
  },
  {
   "cell_type": "code",
   "execution_count": 27,
   "metadata": {},
   "outputs": [
    {
     "data": {
      "text/plain": [
       "array([[  0.   ,   0.   ,   0.   , ...,  99.073,   0.   ,   0.   ],\n",
       "       [  0.   ,   0.   ,   0.   , ...,  99.084,   0.   ,   0.   ],\n",
       "       [  0.   ,   0.   ,   0.   , ...,  99.089,   0.   ,   0.   ],\n",
       "       ...,\n",
       "       [  0.   ,   0.   ,   0.   , ..., 100.122, 100.109, 100.084],\n",
       "       [  0.   ,   0.   ,   0.   , ..., 100.13 , 100.12 , 100.104],\n",
       "       [  0.   ,   0.   ,   0.   , ..., 100.146, 100.136, 100.121]],\n",
       "      dtype=float32)"
      ]
     },
     "execution_count": 27,
     "metadata": {},
     "output_type": "execute_result"
    }
   ],
   "source": [
    "dem_array"
   ]
  },
  {
   "cell_type": "code",
   "execution_count": 28,
   "metadata": {},
   "outputs": [],
   "source": [
    "with rasterio.open(\"./output_dem.tif\", 'w', driver='GTiff', height=num_pixels_y, width=num_pixels_x,\n",
    "                   count=1, dtype=np.float32, crs='EPSG:26910', transform=transform) as dst:\n",
    "    dst.write(dem_array, 1)"
   ]
  },
  {
   "cell_type": "code",
   "execution_count": null,
   "metadata": {},
   "outputs": [],
   "source": [
    "from rasterio.features import shapes\n",
    "from shapely.geometry import Polygon\n",
    "mask = None\n",
    "with rasterio.Env():\n",
    " with rasterio.open(\"./output_dem.tif\") as src:\n",
    "     image = src.read(1) # first band\n",
    "     results = (\n",
    "     {'properties': {'raster_val': v}, 'geometry': s}\n",
    "     for i, (s, v)\n",
    "     in enumerate(\n",
    "     shapes(image.astype(np.float32), mask=mask, transform=src.transform))\n",
    "     )\n",
    " \n",
    " geoms = list(results)"
   ]
  },
  {
   "cell_type": "code",
   "execution_count": null,
   "metadata": {},
   "outputs": [],
   "source": [
    "import geopandas as gpd\n",
    "gdf = gpd.GeoDataFrame.from_features(geoms)"
   ]
  }
 ],
 "metadata": {
  "kernelspec": {
   "display_name": "open3d_3.9",
   "language": "python",
   "name": "python3"
  },
  "language_info": {
   "codemirror_mode": {
    "name": "ipython",
    "version": 3
   },
   "file_extension": ".py",
   "mimetype": "text/x-python",
   "name": "python",
   "nbconvert_exporter": "python",
   "pygments_lexer": "ipython3",
   "version": "3.9.18"
  }
 },
 "nbformat": 4,
 "nbformat_minor": 2
}
